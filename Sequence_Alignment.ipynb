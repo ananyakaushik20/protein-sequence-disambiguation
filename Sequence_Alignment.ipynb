{
 "cells": [
  {
   "cell_type": "markdown",
   "id": "095f9f23",
   "metadata": {},
   "source": [
    "# Task 1"
   ]
  },
  {
   "cell_type": "markdown",
   "id": "3e4fefcf-d0e7-4b51-8314-4102479d050c",
   "metadata": {},
   "source": [
    "\n",
    "For the given task of disambiguating protein sequences, we can are give assembly_1.prot.fa which is poorly annotated and contains query sequences. \n",
    "\n",
    "It must be mapped to the reference sequences contained in assembly_2.prot.fa. In this case, it is suitable to use a pairwise local sequence alignment, to find the similarity between a given \"query\" and \"reference\" or \"subject\" sequence, since the purpose of doing this is to get rid of redundancy between the assemblies, while still allowing us to identify some variations. \n",
    "\n",
    "The PairwiseAligner() function uses the Smith-Waterman algorithm which may already be optimised in Biopython's package. \n",
    "\n",
    "Though the filling up of matrices to calculate alignment scores is memory-intensive, we can also use protein substituion matrices such as BLOSUM62 similar to the blastp algorithm,  or input our own criteria for scoring matrices. \n",
    "\n",
    "Here only the top scored alignment was selected to give the final aligned sequence. This ensured that the disambiguation process only focused on the most relevant and significant alignments. \n",
    "\n",
    "Based on this top scoring alignment the query coverage and sequence identity was calculated to give us an idea of how similar the two sequences are. Query cover refers to the percentage of the query sequence that overlaps the reference sequence. Sequence identity refers to the percentage of base pairs that are the same between the query sequence and the reference sequence. The alignments which were not above the threshold were return as non - significant alignments.\n",
    "\n",
    "    Query Coverage = Number of Non-Gap Positions in Aligned Query / Total Length of Query Sequence\n",
    "    Identity= Number of Identical Positions / Aligned length\n",
    "​\n",
    "The query fasta file and subject fasta file were parsed using the SeqIO package in Biopython. The sequences in the query file were iterated one by one over all the sequences in the reference file and the aligned query sequences including gaps were written in an output fasta file, containing both the query and subject ids.\n"
   ]
  },
  {
   "cell_type": "code",
   "execution_count": 1,
   "id": "67fb1365-ed95-46e4-a844-2f75ae8d2919",
   "metadata": {},
   "outputs": [],
   "source": [
    "from Bio import Align\n",
    "from Bio.Align import substitution_matrices\n",
    "\n",
    "def pairwise_local_alignment(query_seq, subject_seq, query_coverage_threshold = 90, identity_threshold = 95):\n",
    "\n",
    "    #remove dots from fasta sequence\n",
    "    query_seq = query_seq.rstrip('.')\n",
    "\n",
    "    #perform pairwise alignment\n",
    "    aligner = Align.PairwiseAligner()\n",
    "    aligner.mode = 'local'  # Set the alignment mode to 'local'\n",
    "    #aligner.substitution_matrix = substitution_matrices.load(\"BLOSUM62\")\n",
    "    alignments = aligner.align(query_seq, subject_seq)\n",
    "\n",
    "    #get top scoring alignment only\n",
    "    if alignments:\n",
    "        \n",
    "        best_alignment = max(alignments, key=lambda x: x.score)\n",
    "        aligned_query_seq = best_alignment[0]\n",
    "        aligned_subject_seq = best_alignment[1]\n",
    "\n",
    "        # calculate length, query coverage and sequence identity percentage\n",
    "        aligned_length = sum(1 for a, b in zip(aligned_query_seq, aligned_subject_seq) if a != '-' and b != '-')\n",
    "        query_coverage = aligned_length / len(query_seq) * 100\n",
    "        identity = sum(a == b for a, b in zip(aligned_query_seq, aligned_subject_seq)) / aligned_length * 100\n",
    "\n",
    "        # check if alignment meets our set thresholds\n",
    "        if query_coverage >= query_coverage_threshold and identity >= identity_threshold:\n",
    "            return aligned_query_seq, aligned_subject_seq, query_coverage, identity\n",
    "            \n",
    "    return None, None, 0, 0\n"
   ]
  },
  {
   "cell_type": "code",
   "execution_count": null,
   "id": "b6b2c0e9",
   "metadata": {},
   "outputs": [],
   "source": [
    "# running a test sequence:\n",
    "\n",
    "#query_seq = \"MPLLGIHCTDCCTAFVLFRRRLIQKLWPVVYFLYAFILEIEYVAWNNLFPKTSWLQVKPVCIATTAGGLELSNFMQHLMFYMHYLFSLHIQELGSILRLFFYSCLQELELTTAGPLLAISWCLCFTCFKLQADHVSSFSESSTYHKFLRKNSFVFI.\"\n",
    "#subject_seq = \"MNKMILEDPPNPAKIISKQLTKTDLVRNVKLPKKQTESVLTMMTGGTTENLQNGKEVKVLDYIEGNEYTVVLRCTENGKYHFGDGWSTMKHSLKLQEGEILSLYWDYKNQQFIII\"\n",
    "\n",
    "\n",
    "#aligned_query, aligned_subject, query_coverage, identity = pairwise_local_alignment(query_seq, subject_seq)\n",
    "\n",
    "#if aligned_query and aligned_subject:\n",
    "    #print(f\"Aligned Query Sequence: {aligned_query}\")\n",
    "    #print(f\"Aligned Subject Sequence: {aligned_subject}\")\n",
    "    #print(f\"Query Coverage: {query_coverage:.2f}%\")\n",
    "    #print(f\"Identity: {identity:.2f}%\")\n",
    "\n",
    "#else:\n",
    "    #print(\"No significant local alignment found.\")\n"
   ]
  },
  {
   "cell_type": "code",
   "execution_count": 2,
   "id": "c30a8843-3650-432c-b3ec-9db6c67e8a75",
   "metadata": {},
   "outputs": [],
   "source": [
    "def write_alignment_to_fasta(output_fasta, seq1_id, seq2_id, aligned_query_seq):\n",
    "    # Write aligned query sequence to the output FASTA file\n",
    "    output_fasta.write(f\">{seq1_id}||{seq2_id}\\n{aligned_query_seq}\\n\")"
   ]
  },
  {
   "cell_type": "code",
   "execution_count": null,
   "id": "258db319-6cf1-488e-b6d7-669517531848",
   "metadata": {},
   "outputs": [],
   "source": [
    "from Bio import SeqIO\n",
    "\n",
    "def align_sequences_from_files(file1, file2, output_file, query_coverage_threshold=90, identity_threshold=95):\n",
    "    \n",
    "    # open new FASTA file for writing matched sequences\n",
    "    with open(output_file, \"w\") as output_fasta:\n",
    "        \n",
    "        # iterate over sequences in the first file\n",
    "        for seq1 in SeqIO.parse(file1, \"fasta\"):\n",
    "            \n",
    "            # iterate over sequences in the second file\n",
    "            for seq2 in SeqIO.parse(file2, \"fasta\"):\n",
    "                \n",
    "                # performing pairwise local alignment\n",
    "                aligned_query_seq, aligned_subject_seq, query_coverage, identity = pairwise_local_alignment(seq1.seq, seq2.seq, query_coverage_threshold, identity_threshold)\n",
    "\n",
    "                # check if alignment meets specified thresholds\n",
    "                if aligned_query_seq and aligned_subject_seq:\n",
    "                    \n",
    "                    # write aligned query sequence to the output FASTA file\n",
    "                    write_alignment_to_fasta(output_fasta, seq1.id, seq2.id, aligned_query_seq)\n",
    "\n",
    "\n",
    "# batch set\n",
    "align_sequences_from_files(\"1.fa\", \"assembly_2.prot.fa\",\"test_output.fasta\")\n",
    "\n",
    "#actual set\n",
    "align_sequences_from_files(\"assembly_1.prot.fa\", \"assembly_2.prot.fa\",\"output.fasta\")"
   ]
  },
  {
   "cell_type": "markdown",
   "id": "95232528-7736-4675-8960-742e427adba2",
   "metadata": {},
   "source": [
    "An alternative solution to the problem is using CD-HIT in CLI. However this is only used to form clusters, not for accurate making alignments. To cluster sequences based on their similarity using the command: \n"
   ]
  },
  {
   "cell_type": "markdown",
   "id": "44715581-1616-4d13-98b9-a876776e3677",
   "metadata": {},
   "source": [
    "cd-hit -i assembly_1.prot.fa -d your_reference.fasta -o output_file -c 0.95 -aS 0.9"
   ]
  },
  {
   "cell_type": "markdown",
   "id": "bec7d893",
   "metadata": {},
   "source": [
    "where the sequence identity threshold is 0.95 and the sequence coverage threshold is 0.90. Using this method it is fairly easy to use the fasta file format, specify thresholds using built in parameters, and output a fasta file containing clusters of similar sequences with the sequence ids of both query and reference assemblies.\n",
    "\n",
    "This method is used to reduce redundancies which fulfills our initial purpose of disambiguating protein sequences. Clustering them may also be beneficial in grouping them based on functional protein domains and assist us in identifying hydrolase activity. \n"
   ]
  }
 ],
 "metadata": {
  "kernelspec": {
   "display_name": "Python 3 (ipykernel)",
   "language": "python",
   "name": "python3"
  },
  "language_info": {
   "codemirror_mode": {
    "name": "ipython",
    "version": 3
   },
   "file_extension": ".py",
   "mimetype": "text/x-python",
   "name": "python",
   "nbconvert_exporter": "python",
   "pygments_lexer": "ipython3",
   "version": "3.11.7"
  }
 },
 "nbformat": 4,
 "nbformat_minor": 5
}
